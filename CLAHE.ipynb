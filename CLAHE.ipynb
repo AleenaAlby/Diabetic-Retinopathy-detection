{
 "cells": [
  {
   "cell_type": "code",
   "execution_count": 4,
   "id": "b663c2db",
   "metadata": {},
   "outputs": [],
   "source": [
    "import cv2\n",
    "import numpy as np\n",
    " \n",
    "# Reading the image from the present directory\n",
    "image = cv2.imread(\"/Volumes/Extreme SSD/DR/sample/16_left.jpeg\")\n",
    "# Resizing the image for compatibility\n",
    "image = cv2.resize(image, (500, 600))\n",
    " \n",
    "# The initial processing of the image\n",
    "# image = cv2.medianBlur(image, 3)\n",
    "image_bw = cv2.cvtColor(image, cv2.COLOR_BGR2GRAY)\n",
    " \n",
    "# The declaration of CLAHE\n",
    "# clipLimit -> Threshold for contrast limiting\n",
    "clahe = cv2.createCLAHE(clipLimit = 5)\n",
    "final_img = clahe.apply(image_bw) + 30\n",
    " \n",
    "# Ordinary thresholding the same image\n",
    "_, ordinary_img = cv2.threshold(image_bw, 155, 255, cv2.THRESH_BINARY)\n",
    " \n",
    "# Showing all the three images\n",
    "cv2.imshow(\"ordinary threshold\", ordinary_img)\n",
    "cv2.imshow(\"CLAHE image\", final_img)"
   ]
  },
  {
   "cell_type": "code",
   "execution_count": 3,
   "id": "d0513040",
   "metadata": {},
   "outputs": [],
   "source": [
    "cv2.imshow(\"ordinary threshold\", ordinary_img)"
   ]
  },
  {
   "cell_type": "code",
   "execution_count": 22,
   "id": "5d06a0ee",
   "metadata": {},
   "outputs": [
    {
     "data": {
      "text/plain": [
       "True"
      ]
     },
     "execution_count": 22,
     "metadata": {},
     "output_type": "execute_result"
    }
   ],
   "source": [
    "import numpy as np\n",
    "import cv2 as cv\n",
    "img = cv.imread('/Volumes/Extreme SSD/DR/sample/17_left.jpeg')\n",
    "# create a CLAHE object (Arguments are optional).\n",
    "image_bw = cv2.cvtColor(img, cv2.COLOR_BGR2GRAY)\n",
    "clahe = cv.createCLAHE(clipLimit=5.0, tileGridSize=(8,8))\n",
    "cl1 = clahe.apply(image_bw)\n",
    "cv.imwrite('/Volumes/Extreme SSD/DR/sample/170_left.jpeg',cl1)"
   ]
  },
  {
   "cell_type": "code",
   "execution_count": 3,
   "id": "4edcd4cc",
   "metadata": {},
   "outputs": [],
   "source": [
    "import cv2\n",
    "import cv2 as cv\n",
    "import os\n",
    "import glob\n",
    "inputFolder = \"/Volumes/Extreme SSD/DR/Resized_Images\"\n",
    "outputFolder = '/Volumes/Extreme SSD/DR/CLAHE_1'\n",
    "try:\n",
    "    os.mkdir(outputFolder)\n",
    "except:\n",
    "    pass\n",
    "for img in glob.glob(inputFolder + \"/*.jpeg\"):\n",
    "    #print(img)\n",
    "    filename = img.rsplit('/', 1)[-1]\n",
    "    #print(filename)\n",
    "    image = cv2.imread(img)\n",
    "    image_bw = cv2.cvtColor(image, cv2.COLOR_BGR2GRAY)\n",
    "    clahe = cv.createCLAHE(clipLimit=2.0, tileGridSize=(8,8))\n",
    "    #print(clahe)\n",
    "    cl1 = clahe.apply(image_bw)\n",
    "    cv2.imwrite(os.path.join(outputFolder , filename),cl1) \n",
    "    "
   ]
  },
  {
   "cell_type": "code",
   "execution_count": null,
   "id": "f2b7f086",
   "metadata": {},
   "outputs": [],
   "source": []
  }
 ],
 "metadata": {
  "kernelspec": {
   "display_name": "Python 3 (ipykernel)",
   "language": "python",
   "name": "python3"
  },
  "language_info": {
   "codemirror_mode": {
    "name": "ipython",
    "version": 3
   },
   "file_extension": ".py",
   "mimetype": "text/x-python",
   "name": "python",
   "nbconvert_exporter": "python",
   "pygments_lexer": "ipython3",
   "version": "3.9.7"
  }
 },
 "nbformat": 4,
 "nbformat_minor": 5
}
