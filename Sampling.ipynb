{
 "cells": [
  {
   "cell_type": "code",
   "execution_count": 31,
   "id": "64ab5646",
   "metadata": {},
   "outputs": [],
   "source": [
    "import random"
   ]
  },
  {
   "cell_type": "code",
   "execution_count": 33,
   "id": "f26b2e6c",
   "metadata": {},
   "outputs": [
    {
     "name": "stdout",
     "output_type": "stream",
     "text": [
      "['/Volumes/Extreme SSD/Classes/ No_DR', '/Volumes/Extreme SSD/Classes/Mild', '/Volumes/Extreme SSD/Classes/Moderate', '/Volumes/Extreme SSD/Classes/Proliferative DR', '/Volumes/Extreme SSD/Classes/Severe']\n",
      "29812\n",
      "2894\n",
      "5732\n",
      "808\n",
      "870\n"
     ]
    }
   ],
   "source": [
    "import os, os.path\n",
    "\n",
    "class_fol = r'/Volumes/Extreme SSD/Classes'\n",
    "sub_fol = [ f.path for f in os.scandir(class_fol) if f.is_dir()]\n",
    "print(sub_fol)\n",
    "\n",
    "for subfolder in sub_fol:\n",
    "    length = len([name for name in os.listdir(subfolder) if os.path.isfile(os.path.join(subfolder,name))])\n",
    "    print(length)"
   ]
  },
  {
   "cell_type": "code",
   "execution_count": 34,
   "id": "9f192791",
   "metadata": {},
   "outputs": [],
   "source": [
    "#removing hidden files\n",
    "import imghdr\n",
    "path = '/Volumes/Extreme SSD/Classes/Severe' \n",
    "files = os.listdir(path)\n",
    "for file in files:\n",
    "    format = imghdr.what(os.path.join(path, file))\n",
    "    if format != 'jpeg':\n",
    "        os.remove(os.path.join(path, file))\n"
   ]
  },
  {
   "cell_type": "code",
   "execution_count": 35,
   "id": "32784a14",
   "metadata": {},
   "outputs": [
    {
     "name": "stdout",
     "output_type": "stream",
     "text": [
      "['/Volumes/Extreme SSD/Classes/ No_DR', '/Volumes/Extreme SSD/Classes/Mild', '/Volumes/Extreme SSD/Classes/Moderate', '/Volumes/Extreme SSD/Classes/Proliferative DR', '/Volumes/Extreme SSD/Classes/Severe']\n",
      "29812\n",
      "2894\n",
      "5732\n",
      "808\n",
      "435\n"
     ]
    }
   ],
   "source": [
    "import os, os.path\n",
    "\n",
    "class_fol = r'/Volumes/Extreme SSD/Classes'\n",
    "sub_fol = [ f.path for f in os.scandir(class_fol) if f.is_dir()]\n",
    "print(sub_fol)\n",
    "\n",
    "for subfolder in sub_fol:\n",
    "    length = len([name for name in os.listdir(subfolder) if os.path.isfile(os.path.join(subfolder,name))])\n",
    "    print(length)"
   ]
  },
  {
   "cell_type": "code",
   "execution_count": 36,
   "id": "29a07f06",
   "metadata": {},
   "outputs": [],
   "source": [
    "#removing hidden files\n",
    "import imghdr\n",
    "path = '/Volumes/Extreme SSD/Classes/Proliferative DR' \n",
    "files = os.listdir(path)\n",
    "for file in files:\n",
    "    format = imghdr.what(os.path.join(path, file))\n",
    "    if format != 'jpeg':\n",
    "        os.remove(os.path.join(path, file))"
   ]
  },
  {
   "cell_type": "code",
   "execution_count": 38,
   "id": "6df11dd8",
   "metadata": {},
   "outputs": [],
   "source": [
    "#removing hidden files\n",
    "import imghdr\n",
    "path = '/Volumes/Extreme SSD/Classes/Mild' \n",
    "files = os.listdir(path)\n",
    "for file in files:\n",
    "    format = imghdr.what(os.path.join(path, file))\n",
    "    if format != 'jpeg':\n",
    "        os.remove(os.path.join(path, file))"
   ]
  },
  {
   "cell_type": "code",
   "execution_count": 37,
   "id": "5db8c5e6",
   "metadata": {},
   "outputs": [],
   "source": [
    "#removing hidden files\n",
    "import imghdr\n",
    "path = '/Volumes/Extreme SSD/Classes/Moderate' \n",
    "files = os.listdir(path)\n",
    "for file in files:\n",
    "    format = imghdr.what(os.path.join(path, file))\n",
    "    if format != 'jpeg':\n",
    "        os.remove(os.path.join(path, file))"
   ]
  },
  {
   "cell_type": "code",
   "execution_count": 39,
   "id": "4868c631",
   "metadata": {},
   "outputs": [],
   "source": [
    "#removing hidden files\n",
    "import imghdr\n",
    "path = '/Volumes/Extreme SSD/Classes/ No_DR' \n",
    "files = os.listdir(path)\n",
    "for file in files:\n",
    "    format = imghdr.what(os.path.join(path, file))\n",
    "    if format != 'jpeg':\n",
    "        os.remove(os.path.join(path, file))"
   ]
  },
  {
   "cell_type": "markdown",
   "id": "177e71d8",
   "metadata": {},
   "source": [
    "### 3 and 4 conacated to one folder"
   ]
  },
  {
   "cell_type": "code",
   "execution_count": 41,
   "id": "92fa4687",
   "metadata": {},
   "outputs": [
    {
     "name": "stdout",
     "output_type": "stream",
     "text": [
      "['/Volumes/Extreme SSD/Classes/ No_DR', '/Volumes/Extreme SSD/Classes/DR']\n",
      "14906\n",
      "5152\n"
     ]
    }
   ],
   "source": [
    "import os, os.path\n",
    "\n",
    "class_fol = r'/Volumes/Extreme SSD/Classes'\n",
    "sub_fol = [ f.path for f in os.scandir(class_fol) if f.is_dir()]\n",
    "print(sub_fol)\n",
    "\n",
    "for subfolder in sub_fol:\n",
    "    length = len([name for name in os.listdir(subfolder) if os.path.isfile(os.path.join(subfolder,name))])\n",
    "    print(length)"
   ]
  },
  {
   "cell_type": "code",
   "execution_count": 43,
   "id": "a922db6e",
   "metadata": {},
   "outputs": [
    {
     "name": "stdout",
     "output_type": "stream",
     "text": [
      "Total number of images in the folder: 14906\n",
      "Total number of images removed: 9754\n"
     ]
    }
   ],
   "source": [
    "path = r'/Volumes/Extreme SSD/Classes/ No_DR'# You can provide the path here\n",
    "tot_no = len(os.listdir(path))\n",
    "print(\"Total number of images in the folder:\",tot_no)\n",
    "n = tot_no - 5152 # Number of random images to be removed\n",
    "print(\"Total number of images removed:\",n)\n",
    "img_names = os.listdir(path)  # Get image names in folder\n",
    "img_names = random.sample(img_names, n)  # Pick 2500 random images\n",
    "for image in img_names:  # Go over each image name to be deleted\n",
    "    f = os.path.join(path, image)  # Create valid path to image\n",
    "    #print(f)\n",
    "    #break\n",
    "    os.remove(f)  # Remove the image"
   ]
  },
  {
   "cell_type": "code",
   "execution_count": 27,
   "id": "efd6eb9d",
   "metadata": {},
   "outputs": [
    {
     "name": "stdout",
     "output_type": "stream",
     "text": [
      "Total number of images in the folder: 2866\n",
      "Total number of images removed: 1866\n"
     ]
    }
   ],
   "source": [
    "# path = r'/Volumes/Extreme SSD/Classes/Moderate'# You can provide the path here\n",
    "# tot_no = len(os.listdir(path))\n",
    "# print(\"Total number of images in the folder:\",tot_no)\n",
    "# n = tot_no - 1000 # Number of random images to be removed\n",
    "# print(\"Total number of images removed:\",n)\n",
    "# img_names = os.listdir(path)  # Get image names in folder\n",
    "# img_names = random.sample(img_names, n)  # Pick 2500 random images\n",
    "# for image in img_names:  # Go over each image name to be deleted\n",
    "#     f = os.path.join(path, image)  # Create valid path to image\n",
    "#     #print(f)\n",
    "#     #break\n",
    "#     os.remove(f)  # Remove the image"
   ]
  },
  {
   "cell_type": "code",
   "execution_count": 29,
   "id": "8bd26f43",
   "metadata": {},
   "outputs": [
    {
     "name": "stdout",
     "output_type": "stream",
     "text": [
      "Total number of images in the folder: 1447\n",
      "Total number of images removed: 447\n"
     ]
    }
   ],
   "source": [
    "# path = r'/Volumes/Extreme SSD/Classes/Mild'# You can provide the path here\n",
    "# tot_no = len(os.listdir(path))\n",
    "# print(\"Total number of images in the folder:\",tot_no)\n",
    "# n = tot_no - 1000 # Number of random images to be removed\n",
    "# print(\"Total number of images removed:\",n)\n",
    "# img_names = os.listdir(path)  # Get image names in folder\n",
    "# img_names = random.sample(img_names, n)  # Pick 2500 random images\n",
    "# for image in img_names:  # Go over each image name to be deleted\n",
    "#     f = os.path.join(path, image)  # Create valid path to image\n",
    "#     #print(f)\n",
    "#     #break\n",
    "#     os.remove(f)  # Remove the image"
   ]
  },
  {
   "cell_type": "code",
   "execution_count": 44,
   "id": "efc663f8",
   "metadata": {},
   "outputs": [
    {
     "name": "stdout",
     "output_type": "stream",
     "text": [
      "['/Volumes/Extreme SSD/Classes/ No_DR', '/Volumes/Extreme SSD/Classes/DR']\n",
      "5152\n",
      "5152\n"
     ]
    }
   ],
   "source": [
    "import os, os.path\n",
    "\n",
    "class_fol = r'/Volumes/Extreme SSD/Classes'\n",
    "sub_fol = [ f.path for f in os.scandir(class_fol) if f.is_dir()]\n",
    "print(sub_fol)\n",
    "\n",
    "for subfolder in sub_fol:\n",
    "    length = len([name for name in os.listdir(subfolder) if os.path.isfile(os.path.join(subfolder,name))])\n",
    "    print(length)"
   ]
  },
  {
   "cell_type": "code",
   "execution_count": null,
   "id": "72c6b10a",
   "metadata": {},
   "outputs": [],
   "source": []
  }
 ],
 "metadata": {
  "kernelspec": {
   "display_name": "Python 3 (ipykernel)",
   "language": "python",
   "name": "python3"
  },
  "language_info": {
   "codemirror_mode": {
    "name": "ipython",
    "version": 3
   },
   "file_extension": ".py",
   "mimetype": "text/x-python",
   "name": "python",
   "nbconvert_exporter": "python",
   "pygments_lexer": "ipython3",
   "version": "3.9.7"
  }
 },
 "nbformat": 4,
 "nbformat_minor": 5
}
