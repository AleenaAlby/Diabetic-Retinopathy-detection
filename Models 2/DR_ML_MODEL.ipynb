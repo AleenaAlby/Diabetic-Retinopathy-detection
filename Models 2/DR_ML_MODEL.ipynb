{
  "cells": [
    {
      "cell_type": "code",
      "execution_count": null,
      "id": "7a3155e3",
      "metadata": {
        "id": "7a3155e3"
      },
      "outputs": [],
      "source": [
        "# import the libraries\n",
        "import tensorflow as tf\n",
        "tf.compat.v1.logging.set_verbosity(tf.compat.v1.logging.ERROR)\n",
        "from tensorflow import keras\n",
        "from tensorflow.keras import models, layers\n",
        "from tensorflow.keras.models import Sequential\n",
        "from tensorflow.keras.layers import Dense, InputLayer, BatchNormalization, Dropout\n",
        "\n",
        "import matplotlib.pyplot as plt\n",
        "import numpy as np\n",
        "import warnings\n",
        "warnings.filterwarnings('ignore')"
      ]
    },
    {
      "cell_type": "code",
      "execution_count": null,
      "id": "99f8b855",
      "metadata": {
        "id": "99f8b855"
      },
      "outputs": [],
      "source": [
        "import pathlib\n",
        "data_dir = 'C:/Users/anant/Downloads/Claheclasses_1/Claheclasses_1'\n",
        "data_dir = pathlib.Path(data_dir)"
      ]
    },
    {
      "cell_type": "code",
      "execution_count": null,
      "id": "1bbf00aa",
      "metadata": {
        "colab": {
          "base_uri": "https://localhost:8080/"
        },
        "id": "1bbf00aa",
        "outputId": "872d8cf1-a14b-4061-c193-442cb035809d"
      },
      "outputs": [
        {
          "name": "stdout",
          "output_type": "stream",
          "text": [
            "10304\n"
          ]
        }
      ],
      "source": [
        "image_count = len(list(data_dir.glob('*/*.jpeg')))\n",
        "print(image_count)"
      ]
    },
    {
      "cell_type": "code",
      "execution_count": null,
      "id": "5f145c01",
      "metadata": {
        "id": "5f145c01"
      },
      "outputs": [],
      "source": [
        "batch_size = 8\n",
        "img_rows = 299\n",
        "img_cols = 299"
      ]
    },
    {
      "cell_type": "code",
      "execution_count": null,
      "id": "917c0362",
      "metadata": {
        "id": "917c0362",
        "outputId": "70b6f82e-a232-4f2b-fe15-ff0329b9f1ab"
      },
      "outputs": [
        {
          "name": "stdout",
          "output_type": "stream",
          "text": [
            "Found 10304 files belonging to 2 classes.\n"
          ]
        }
      ],
      "source": [
        "dataset = tf.keras.preprocessing.image_dataset_from_directory(\n",
        "    data_dir,\n",
        "    shuffle = True,\n",
        "    batch_size = 8,\n",
        "    image_size = (img_rows, img_cols))"
      ]
    },
    {
      "cell_type": "code",
      "execution_count": null,
      "id": "d0a068f6",
      "metadata": {
        "id": "d0a068f6",
        "outputId": "52b1a5c2-0e85-403a-92c8-8d05caca66bf"
      },
      "outputs": [
        {
          "data": {
            "text/plain": [
              "1288"
            ]
          },
          "execution_count": 6,
          "metadata": {},
          "output_type": "execute_result"
        }
      ],
      "source": [
        "len(dataset)"
      ]
    },
    {
      "cell_type": "code",
      "execution_count": null,
      "id": "6c9c325a",
      "metadata": {
        "id": "6c9c325a"
      },
      "outputs": [],
      "source": [
        "import numpy as np"
      ]
    },
    {
      "cell_type": "code",
      "execution_count": null,
      "id": "510587ff",
      "metadata": {
        "id": "510587ff"
      },
      "outputs": [],
      "source": [
        "X = []\n",
        "y = []\n",
        "for image,labels in dataset.take(800):\n",
        "    for i in image:\n",
        "        img = i.numpy()\n",
        "        X.append(img)\n",
        "    lbl_list = labels.numpy()    \n",
        "    y.extend(lbl_list)   "
      ]
    },
    {
      "cell_type": "code",
      "execution_count": null,
      "id": "996651d8",
      "metadata": {
        "id": "996651d8"
      },
      "outputs": [],
      "source": [
        "x = np.array(X)"
      ]
    },
    {
      "cell_type": "code",
      "execution_count": null,
      "id": "83518fe9",
      "metadata": {
        "id": "83518fe9"
      },
      "outputs": [],
      "source": [
        "y = np.array(y)"
      ]
    },
    {
      "cell_type": "code",
      "execution_count": null,
      "id": "992f1636",
      "metadata": {
        "id": "992f1636"
      },
      "outputs": [],
      "source": [
        "from sklearn.model_selection import train_test_split"
      ]
    },
    {
      "cell_type": "code",
      "execution_count": null,
      "id": "cb1f48eb",
      "metadata": {
        "id": "cb1f48eb"
      },
      "outputs": [],
      "source": [
        "x_train, x_test, y_train, y_test = train_test_split(x,y, test_size=0.3)"
      ]
    },
    {
      "cell_type": "code",
      "execution_count": null,
      "id": "cc263136",
      "metadata": {
        "id": "cc263136",
        "outputId": "02a4ff03-9184-4af1-c282-bd8eccc29b50"
      },
      "outputs": [
        {
          "data": {
            "text/plain": [
              "((4480, 299, 299, 3), (1920, 299, 299, 3))"
            ]
          },
          "execution_count": 13,
          "metadata": {},
          "output_type": "execute_result"
        }
      ],
      "source": [
        "x_train.shape,x_test.shape"
      ]
    },
    {
      "cell_type": "code",
      "execution_count": null,
      "id": "9bb11fa0",
      "metadata": {
        "id": "9bb11fa0"
      },
      "outputs": [],
      "source": [
        "x_train = x_train/255.0"
      ]
    },
    {
      "cell_type": "code",
      "execution_count": null,
      "id": "20fcc3e4",
      "metadata": {
        "id": "20fcc3e4"
      },
      "outputs": [],
      "source": [
        "x_test = x_test/255.0"
      ]
    },
    {
      "cell_type": "code",
      "execution_count": null,
      "id": "4d3b22d9",
      "metadata": {
        "id": "4d3b22d9"
      },
      "outputs": [],
      "source": [
        "nsamples, nx, ny, nrgb = x_train.shape\n",
        "x_train2 = x_train.reshape((nsamples,nx*ny*nrgb))"
      ]
    },
    {
      "cell_type": "code",
      "execution_count": null,
      "id": "8cad6569",
      "metadata": {
        "id": "8cad6569"
      },
      "outputs": [],
      "source": [
        "nsamples, nx, ny, nrgb = x_test.shape\n",
        "x_test2 = x_test.reshape((nsamples,nx*ny*nrgb))"
      ]
    },
    {
      "cell_type": "code",
      "execution_count": null,
      "id": "6ddfeafb",
      "metadata": {
        "id": "6ddfeafb"
      },
      "outputs": [],
      "source": [
        "from sklearn.model_selection import RandomizedSearchCV, GridSearchCV\n",
        "import xgboost\n",
        "from sklearn.neighbors import KNeighborsClassifier"
      ]
    },
    {
      "cell_type": "code",
      "execution_count": null,
      "id": "589d6770",
      "metadata": {
        "id": "589d6770"
      },
      "outputs": [],
      "source": [
        "knn=KNeighborsClassifier(n_neighbors=7)"
      ]
    },
    {
      "cell_type": "code",
      "execution_count": null,
      "id": "87be8be5",
      "metadata": {
        "scrolled": true,
        "id": "87be8be5",
        "outputId": "2c8254c5-5925-40e2-83dc-2218e2973ca7"
      },
      "outputs": [
        {
          "data": {
            "text/plain": [
              "KNeighborsClassifier(n_neighbors=7)"
            ]
          },
          "execution_count": 27,
          "metadata": {},
          "output_type": "execute_result"
        }
      ],
      "source": [
        "knn.fit(x_train2,y_train)"
      ]
    },
    {
      "cell_type": "code",
      "execution_count": null,
      "id": "ef1f56b0",
      "metadata": {
        "id": "ef1f56b0",
        "outputId": "2dc4d942-da00-422b-9d00-c8cf1f11d098"
      },
      "outputs": [
        {
          "data": {
            "text/plain": [
              "array([0, 1, 0, ..., 1, 0, 0])"
            ]
          },
          "execution_count": 28,
          "metadata": {},
          "output_type": "execute_result"
        }
      ],
      "source": [
        "y_pred_knn=knn.predict(x_test2)\n",
        "y_pred_knn"
      ]
    },
    {
      "cell_type": "code",
      "execution_count": null,
      "id": "85f085fd",
      "metadata": {
        "id": "85f085fd"
      },
      "outputs": [],
      "source": [
        "from sklearn.metrics import accuracy_score,confusion_matrix,classification_report"
      ]
    },
    {
      "cell_type": "code",
      "execution_count": null,
      "id": "1200b3fa",
      "metadata": {
        "id": "1200b3fa",
        "outputId": "da081f79-49f5-4c20-9962-d246c2c8e51f"
      },
      "outputs": [
        {
          "name": "stdout",
          "output_type": "stream",
          "text": [
            "              precision    recall  f1-score   support\n",
            "\n",
            "           0       0.50      0.51      0.51       948\n",
            "           1       0.52      0.51      0.51       972\n",
            "\n",
            "    accuracy                           0.51      1920\n",
            "   macro avg       0.51      0.51      0.51      1920\n",
            "weighted avg       0.51      0.51      0.51      1920\n",
            "\n"
          ]
        }
      ],
      "source": [
        "accuracy_score(y_pred_knn,y_test)\n",
        "print(classification_report(y_pred_knn,y_test))"
      ]
    },
    {
      "cell_type": "code",
      "execution_count": null,
      "id": "448b6d15",
      "metadata": {
        "id": "448b6d15"
      },
      "outputs": [],
      "source": [
        "from sklearn.model_selection import cross_val_score\n",
        "score=cross_val_score(knn,x_train2,y_train,cv=10)"
      ]
    },
    {
      "cell_type": "code",
      "execution_count": null,
      "id": "aad0f1e6",
      "metadata": {
        "id": "aad0f1e6",
        "outputId": "f8f3ac29-0a45-4c86-fc7b-3368caaf35d4"
      },
      "outputs": [
        {
          "data": {
            "text/plain": [
              "array([0.48883929, 0.546875  , 0.53125   , 0.56696429, 0.52901786,\n",
              "       0.515625  , 0.49107143, 0.50669643, 0.47767857, 0.50892857])"
            ]
          },
          "execution_count": 33,
          "metadata": {},
          "output_type": "execute_result"
        }
      ],
      "source": [
        "score"
      ]
    },
    {
      "cell_type": "code",
      "execution_count": null,
      "id": "64dba0d7",
      "metadata": {
        "id": "64dba0d7"
      },
      "outputs": [],
      "source": []
    }
  ],
  "metadata": {
    "accelerator": "GPU",
    "colab": {
      "machine_shape": "hm",
      "provenance": []
    },
    "gpuClass": "standard",
    "kernelspec": {
      "display_name": "Python 3 (ipykernel)",
      "language": "python",
      "name": "python3"
    },
    "language_info": {
      "codemirror_mode": {
        "name": "ipython",
        "version": 3
      },
      "file_extension": ".py",
      "mimetype": "text/x-python",
      "name": "python",
      "nbconvert_exporter": "python",
      "pygments_lexer": "ipython3",
      "version": "3.9.12"
    }
  },
  "nbformat": 4,
  "nbformat_minor": 5
}